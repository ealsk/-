{
  "nbformat": 4,
  "nbformat_minor": 0,
  "metadata": {
    "colab": {
      "name": "08_Linear_regression.ipynb",
      "provenance": [],
      "collapsed_sections": [],
      "authorship_tag": "ABX9TyMaYMRqFXjZmyfQLPzuhial",
      "include_colab_link": true
    },
    "kernelspec": {
      "name": "python3",
      "display_name": "Python 3"
    }
  },
  "cells": [
    {
      "cell_type": "markdown",
      "metadata": {
        "id": "view-in-github",
        "colab_type": "text"
      },
      "source": [
        "<a href=\"https://colab.research.google.com/github/ealsk/2020_AI/blob/master/08_Linear_regression.ipynb\" target=\"_parent\"><img src=\"https://colab.research.google.com/assets/colab-badge.svg\" alt=\"Open In Colab\"/></a>"
      ]
    },
    {
      "cell_type": "code",
      "metadata": {
        "id": "dCXu-UHUGF1h",
        "colab_type": "code",
        "colab": {
          "base_uri": "https://localhost:8080/",
          "height": 90
        },
        "outputId": "067ba704-abc2-430f-fb5d-7c00bdfe6628"
      },
      "source": [
        "#import tensorflow as tf\n",
        "import tensorflow.compat.v1 as tf\n",
        "tf.disable_v2_behavior()"
      ],
      "execution_count": null,
      "outputs": [
        {
          "output_type": "stream",
          "text": [
            "WARNING:tensorflow:From /usr/local/lib/python3.6/dist-packages/tensorflow/python/compat/v2_compat.py:96: disable_resource_variables (from tensorflow.python.ops.variable_scope) is deprecated and will be removed in a future version.\n",
            "Instructions for updating:\n",
            "non-resource variables are not supported in the long term\n"
          ],
          "name": "stdout"
        }
      ]
    },
    {
      "cell_type": "code",
      "metadata": {
        "id": "GBzcdr5cGVFJ",
        "colab_type": "code",
        "colab": {}
      },
      "source": [
        "import numpy as np\n",
        "import matplotlib.pyplot as plt"
      ],
      "execution_count": null,
      "outputs": []
    },
    {
      "cell_type": "code",
      "metadata": {
        "id": "kqMASuhoG2aR",
        "colab_type": "code",
        "colab": {}
      },
      "source": [
        "x_train = [1, 2, 3]"
      ],
      "execution_count": null,
      "outputs": []
    },
    {
      "cell_type": "code",
      "metadata": {
        "id": "TZfXkOyVG4ns",
        "colab_type": "code",
        "colab": {}
      },
      "source": [
        "y_train = [2+1 +0.1, 4+1 -0.2, 6+1 +0.15]"
      ],
      "execution_count": null,
      "outputs": []
    },
    {
      "cell_type": "code",
      "metadata": {
        "id": "5neHa6s7G_OR",
        "colab_type": "code",
        "colab": {
          "base_uri": "https://localhost:8080/",
          "height": 297
        },
        "outputId": "7acc11ca-012e-4db9-9b39-7ce6d3954b67"
      },
      "source": [
        "plt.plot(x_train, y_train, '.-')\n",
        "plt.xlabel('X')\n",
        "plt.ylabel('Y')"
      ],
      "execution_count": null,
      "outputs": [
        {
          "output_type": "execute_result",
          "data": {
            "text/plain": [
              "Text(0, 0.5, 'Y')"
            ]
          },
          "metadata": {
            "tags": []
          },
          "execution_count": 6
        },
        {
          "output_type": "display_data",
          "data": {
            "image/png": "[encoded data removed]",
            "text/plain": [
              "<Figure size 432x288 with 1 Axes>"
            ]
          },
          "metadata": {
            "tags": [],
            "needs_background": "light"
          }
        }
      ]
    },
    {
      "cell_type": "markdown",
      "metadata": {
        "id": "ZlrkioleHGdZ",
        "colab_type": "text"
      },
      "source": [
        "**초기화, Initialization**"
      ]
    },
    {
      "cell_type": "code",
      "metadata": {
        "id": "CVnTj259HIcA",
        "colab_type": "code",
        "colab": {}
      },
      "source": [
        "w0 = 7;\n",
        "b0 = -10;"
      ],
      "execution_count": null,
      "outputs": []
    },
    {
      "cell_type": "markdown",
      "metadata": {
        "id": "v_JLuhk2HLvf",
        "colab_type": "text"
      },
      "source": [
        "**Parameter 설정**"
      ]
    },
    {
      "cell_type": "code",
      "metadata": {
        "id": "k25TaIW4HM4V",
        "colab_type": "code",
        "colab": {}
      },
      "source": [
        "W = tf.Variable(w0*tf.ones([1]), name='weight')\n",
        "b = tf.Variable(b0*tf.ones([1]), name= 'bias')"
      ],
      "execution_count": null,
      "outputs": []
    },
    {
      "cell_type": "markdown",
      "metadata": {
        "id": "S7F7KtM7HbPC",
        "colab_type": "text"
      },
      "source": [
        "**Our hypothesis XW+b**"
      ]
    },
    {
      "cell_type": "markdown",
      "metadata": {
        "id": "Q0BkyuV1Hr6F",
        "colab_type": "text"
      },
      "source": [
        ""
      ]
    },
    {
      "cell_type": "code",
      "metadata": {
        "id": "3La6cMjhHUkr",
        "colab_type": "code",
        "colab": {}
      },
      "source": [
        "hypothesis = x_train * W + b"
      ],
      "execution_count": null,
      "outputs": []
    },
    {
      "cell_type": "markdown",
      "metadata": {
        "id": "Zxc4eTi-HgPd",
        "colab_type": "text"
      },
      "source": [
        "**cost/loss function**"
      ]
    },
    {
      "cell_type": "code",
      "metadata": {
        "id": "Sw2JZbCMHhft",
        "colab_type": "code",
        "colab": {}
      },
      "source": [
        "cost = tf.reduce_mean(tf.square(hypothesis - y_train))"
      ],
      "execution_count": null,
      "outputs": []
    },
    {
      "cell_type": "markdown",
      "metadata": {
        "id": "DPdGXxfSHoRa",
        "colab_type": "text"
      },
      "source": [
        "**Optimizer 설정**"
      ]
    },
    {
      "cell_type": "code",
      "metadata": {
        "id": "sIIcHwigHwho",
        "colab_type": "code",
        "colab": {}
      },
      "source": [
        "optimizer = tf.train.GradientDescentOptimizer(learning_rate=0.01)\n",
        "#optimizer = tf.compat.v1.train.GradientDescentOptimizer(learning_rate=0.01)\n",
        "train = optimizer.minimize(cost)"
      ],
      "execution_count": null,
      "outputs": []
    },
    {
      "cell_type": "markdown",
      "metadata": {
        "id": "QJ73xWC1IGUt",
        "colab_type": "text"
      },
      "source": [
        "**Launch the graph in a session**"
      ]
    },
    {
      "cell_type": "code",
      "metadata": {
        "id": "SpHdeTclILzT",
        "colab_type": "code",
        "colab": {}
      },
      "source": [
        "sess = tf.Session()"
      ],
      "execution_count": null,
      "outputs": []
    },
    {
      "cell_type": "markdown",
      "metadata": {
        "id": "hA6D4ymfIOdo",
        "colab_type": "text"
      },
      "source": [
        "**Initializes global variabels in the graph**"
      ]
    },
    {
      "cell_type": "code",
      "metadata": {
        "id": "wapUR3wIISnm",
        "colab_type": "code",
        "colab": {}
      },
      "source": [
        "sess.run(tf.global_variables_initializer())"
      ],
      "execution_count": null,
      "outputs": []
    },
    {
      "cell_type": "markdown",
      "metadata": {
        "id": "HXUETZcnIW7h",
        "colab_type": "text"
      },
      "source": [
        "**RUN!**"
      ]
    },
    {
      "cell_type": "code",
      "metadata": {
        "id": "AlE4h92WIYUT",
        "colab_type": "code",
        "colab": {}
      },
      "source": [
        "nb_epoch = 2000"
      ],
      "execution_count": null,
      "outputs": []
    },
    {
      "cell_type": "code",
      "metadata": {
        "id": "nHCBLUU2IaQw",
        "colab_type": "code",
        "colab": {
          "base_uri": "https://localhost:8080/",
          "height": 105
        },
        "outputId": "df206b70-259e-4cd4-cb87-866a061f5400"
      },
      "source": [
        "for i in range(100):\n",
        "  if i % 20 ==0:\n",
        "    print(i)"
      ],
      "execution_count": null,
      "outputs": [
        {
          "output_type": "stream",
          "text": [
            "0\n",
            "20\n",
            "40\n",
            "60\n",
            "80\n"
          ],
          "name": "stdout"
        }
      ]
    },
    {
      "cell_type": "code",
      "metadata": {
        "id": "jFm9pc0cIfNS",
        "colab_type": "code",
        "colab": {}
      },
      "source": [
        "vw = []\n",
        "vb = []\n",
        "vcost = []"
      ],
      "execution_count": null,
      "outputs": []
    }
  ]
}