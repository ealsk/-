{
  "nbformat": 4,
  "nbformat_minor": 0,
  "metadata": {
    "colab": {
      "name": "05_SVM_simple.ipynb.ipynb",
      "provenance": [],
      "collapsed_sections": [],
      "authorship_tag": "ABX9TyMBhgtyvvYnKjXdZ/n89x+S",
      "include_colab_link": true
    },
    "kernelspec": {
      "name": "python3",
      "display_name": "Python 3"
    }
  },
  "cells": [
    {
      "cell_type": "markdown",
      "metadata": {
        "id": "view-in-github",
        "colab_type": "text"
      },
      "source": [
        "<a href=\"https://colab.research.google.com/github/ealsk/2020_AI/blob/master/05_SVM_simple_ipynb.ipynb\" target=\"_parent\"><img src=\"https://colab.research.google.com/assets/colab-badge.svg\" alt=\"Open In Colab\"/></a>"
      ]
    },
    {
      "cell_type": "code",
      "metadata": {
        "id": "UNgiibKPoqsA",
        "colab_type": "code",
        "colab": {}
      },
      "source": [
        "from sklearn.svm import SVC\n",
        "import matplotlib.pyplot as plt\n",
        "import numpy as np"
      ],
      "execution_count": null,
      "outputs": []
    },
    {
      "cell_type": "code",
      "metadata": {
        "id": "WDQQyKACpJ-A",
        "colab_type": "code",
        "colab": {}
      },
      "source": [
        "tpts = np.array([[1,2], [1,5], [2,2], [3,3.5], [7,5], [9,4], [8,2], [4,8]]) #training_points\n",
        "labels = [1, 1, 1, 1, 0, 0, 0, 1]"
      ],
      "execution_count": null,
      "outputs": []
    },
    {
      "cell_type": "code",
      "metadata": {
        "id": "_A8r6E-jp-7E",
        "colab_type": "code",
        "colab": {
          "base_uri": "https://localhost:8080/",
          "height": 158
        },
        "outputId": "edad8cbc-2d65-4657-f006-521085becb7f"
      },
      "source": [
        "tpts"
      ],
      "execution_count": null,
      "outputs": [
        {
          "output_type": "execute_result",
          "data": {
            "text/plain": [
              "array([[1. , 2. ],\n",
              "       [1. , 5. ],\n",
              "       [2. , 2. ],\n",
              "       [3. , 3.5],\n",
              "       [7. , 5. ],\n",
              "       [9. , 4. ],\n",
              "       [8. , 2. ],\n",
              "       [4. , 8. ]])"
            ]
          },
          "metadata": {
            "tags": []
          },
          "execution_count": 39
        }
      ]
    },
    {
      "cell_type": "code",
      "metadata": {
        "id": "udbNDr9VqJB8",
        "colab_type": "code",
        "colab": {
          "base_uri": "https://localhost:8080/",
          "height": 34
        },
        "outputId": "c128bb81-8caa-45a1-e1ce-abebe271e27a"
      },
      "source": [
        "tpts.shape"
      ],
      "execution_count": null,
      "outputs": [
        {
          "output_type": "execute_result",
          "data": {
            "text/plain": [
              "(8, 2)"
            ]
          },
          "metadata": {
            "tags": []
          },
          "execution_count": 40
        }
      ]
    },
    {
      "cell_type": "code",
      "metadata": {
        "id": "ImaHuD0CqU7c",
        "colab_type": "code",
        "colab": {
          "base_uri": "https://localhost:8080/",
          "height": 282
        },
        "outputId": "3567ca58-240a-48ce-ef6a-d5a28c54f34b"
      },
      "source": [
        "plt.scatter(tpts[:,0], tpts[:, 1], c=labels)"
      ],
      "execution_count": null,
      "outputs": [
        {
          "output_type": "execute_result",
          "data": {
            "text/plain": [
              "<matplotlib.collections.PathCollection at 0x7ffa76ab0f60>"
            ]
          },
          "metadata": {
            "tags": []
          },
          "execution_count": 41
        },
        {
          "output_type": "display_data",
          "data": {
            "image/png": "[encoded data removed]",
            "text/plain": [
              "<Figure size 432x288 with 1 Axes>"
            ]
          },
          "metadata": {
            "tags": [],
            "needs_background": "light"
          }
        }
      ]
    },
    {
      "cell_type": "code",
      "metadata": {
        "id": "aWVX7Oiwqdkb",
        "colab_type": "code",
        "colab": {}
      },
      "source": [
        "clf = SVC(kernel='linear') #classifier"
      ],
      "execution_count": null,
      "outputs": []
    },
    {
      "cell_type": "code",
      "metadata": {
        "id": "2I6xnQt7rO7Q",
        "colab_type": "code",
        "colab": {
          "base_uri": "https://localhost:8080/",
          "height": 122
        },
        "outputId": "0bf20a01-dc94-4555-909d-c1126379a135"
      },
      "source": [
        "%%time\n",
        "clf.fit(tpts, labels)"
      ],
      "execution_count": null,
      "outputs": [
        {
          "output_type": "stream",
          "text": [
            "CPU times: user 1.22 ms, sys: 0 ns, total: 1.22 ms\n",
            "Wall time: 2.67 ms\n"
          ],
          "name": "stdout"
        },
        {
          "output_type": "execute_result",
          "data": {
            "text/plain": [
              "SVC(C=1.0, break_ties=False, cache_size=200, class_weight=None, coef0=0.0,\n",
              "    decision_function_shape='ovr', degree=3, gamma='scale', kernel='linear',\n",
              "    max_iter=-1, probability=False, random_state=None, shrinking=True,\n",
              "    tol=0.001, verbose=False)"
            ]
          },
          "metadata": {
            "tags": []
          },
          "execution_count": 43
        }
      ]
    },
    {
      "cell_type": "markdown",
      "metadata": {
        "id": "YkwKz_spsaUs",
        "colab_type": "text"
      },
      "source": [
        "### 테스트해보기\n"
      ]
    },
    {
      "cell_type": "code",
      "metadata": {
        "id": "75OuX3mzrdxl",
        "colab_type": "code",
        "colab": {
          "base_uri": "https://localhost:8080/",
          "height": 34
        },
        "outputId": "df16b078-f7a9-43b2-f32f-b1025d72392d"
      },
      "source": [
        "predl = clf.predict([[3, 3]])\n",
        "print(predl[0])"
      ],
      "execution_count": null,
      "outputs": [
        {
          "output_type": "stream",
          "text": [
            "1\n"
          ],
          "name": "stdout"
        }
      ]
    },
    {
      "cell_type": "code",
      "metadata": {
        "id": "ehU1xClor3AE",
        "colab_type": "code",
        "colab": {
          "base_uri": "https://localhost:8080/",
          "height": 34
        },
        "outputId": "d75c3964-7c2e-48e9-fc6b-473f9dd2356d"
      },
      "source": [
        "predl = clf.predict([[7, 4]])\n",
        "print(predl[0])"
      ],
      "execution_count": null,
      "outputs": [
        {
          "output_type": "stream",
          "text": [
            "0\n"
          ],
          "name": "stdout"
        }
      ]
    },
    {
      "cell_type": "code",
      "metadata": {
        "id": "f1QwJLvbr448",
        "colab_type": "code",
        "colab": {
          "base_uri": "https://localhost:8080/",
          "height": 34
        },
        "outputId": "4d2bfb2d-98c5-4da6-cad9-72b81509cc73"
      },
      "source": [
        "predl = clf.predict([[7, 4.1]])\n",
        "print(predl[0])"
      ],
      "execution_count": null,
      "outputs": [
        {
          "output_type": "stream",
          "text": [
            "0\n"
          ],
          "name": "stdout"
        }
      ]
    },
    {
      "cell_type": "markdown",
      "metadata": {
        "id": "vqHLoCSqs-05",
        "colab_type": "text"
      },
      "source": [
        "### 그래프 그려보기"
      ]
    },
    {
      "cell_type": "code",
      "metadata": {
        "id": "x-UE1ETJtDLa",
        "colab_type": "code",
        "colab": {
          "base_uri": "https://localhost:8080/",
          "height": 34
        },
        "outputId": "811b1151-27c2-4950-dde8-4d4b86a2690b"
      },
      "source": [
        "clf.coef_"
      ],
      "execution_count": null,
      "outputs": [
        {
          "output_type": "execute_result",
          "data": {
            "text/plain": [
              "array([[-0.54527198,  0.12117155]])"
            ]
          },
          "metadata": {
            "tags": []
          },
          "execution_count": 47
        }
      ]
    },
    {
      "cell_type": "code",
      "metadata": {
        "id": "SHXIXtFUtpWF",
        "colab_type": "code",
        "colab": {
          "base_uri": "https://localhost:8080/",
          "height": 34
        },
        "outputId": "5de4f500-45ba-473a-8c0c-ef21c2a57ccd"
      },
      "source": [
        "clf.intercept_"
      ],
      "execution_count": null,
      "outputs": [
        {
          "output_type": "execute_result",
          "data": {
            "text/plain": [
              "array([2.21149237])"
            ]
          },
          "metadata": {
            "tags": []
          },
          "execution_count": 48
        }
      ]
    },
    {
      "cell_type": "code",
      "metadata": {
        "id": "UCn1Lx1ZtroZ",
        "colab_type": "code",
        "colab": {}
      },
      "source": [
        "def getXY(clf):\n",
        "  w = clf.coef_[0]\n",
        "  i = clf.intercept_[0]\n",
        "  print('weights = ', w)\n",
        "  print('intercept = ', i)\n",
        "\n",
        "  a = -w[0] / w[1]\n",
        "  b = -i / w[1]\n",
        "  x = np.linspace(1, 9)\n",
        "  \n",
        "  \n",
        "  y = a * x + b\n",
        "\n",
        "  return x, y  "
      ],
      "execution_count": null,
      "outputs": []
    },
    {
      "cell_type": "code",
      "metadata": {
        "id": "XTYs6m4WuMbf",
        "colab_type": "code",
        "colab": {
          "base_uri": "https://localhost:8080/",
          "height": 52
        },
        "outputId": "2e7910d4-69cc-474c-bd79-ce017765cda4"
      },
      "source": [
        "x, y = getXY(clf)"
      ],
      "execution_count": null,
      "outputs": [
        {
          "output_type": "stream",
          "text": [
            "weights =  [-0.54527198  0.12117155]\n",
            "intercept =  2.211492367181768\n"
          ],
          "name": "stdout"
        }
      ]
    },
    {
      "cell_type": "code",
      "metadata": {
        "id": "Ftfikgm5vOQ6",
        "colab_type": "code",
        "colab": {
          "base_uri": "https://localhost:8080/",
          "height": 193
        },
        "outputId": "de9ba426-f1f7-4238-bed5-3f4f48948503"
      },
      "source": [
        "x"
      ],
      "execution_count": null,
      "outputs": [
        {
          "output_type": "execute_result",
          "data": {
            "text/plain": [
              "array([1.        , 1.16326531, 1.32653061, 1.48979592, 1.65306122,\n",
              "       1.81632653, 1.97959184, 2.14285714, 2.30612245, 2.46938776,\n",
              "       2.63265306, 2.79591837, 2.95918367, 3.12244898, 3.28571429,\n",
              "       3.44897959, 3.6122449 , 3.7755102 , 3.93877551, 4.10204082,\n",
              "       4.26530612, 4.42857143, 4.59183673, 4.75510204, 4.91836735,\n",
              "       5.08163265, 5.24489796, 5.40816327, 5.57142857, 5.73469388,\n",
              "       5.89795918, 6.06122449, 6.2244898 , 6.3877551 , 6.55102041,\n",
              "       6.71428571, 6.87755102, 7.04081633, 7.20408163, 7.36734694,\n",
              "       7.53061224, 7.69387755, 7.85714286, 8.02040816, 8.18367347,\n",
              "       8.34693878, 8.51020408, 8.67346939, 8.83673469, 9.        ])"
            ]
          },
          "metadata": {
            "tags": []
          },
          "execution_count": 51
        }
      ]
    },
    {
      "cell_type": "code",
      "metadata": {
        "id": "FucypZw3vY5Z",
        "colab_type": "code",
        "colab": {
          "base_uri": "https://localhost:8080/",
          "height": 246
        },
        "outputId": "74eec06b-31b9-4f43-f6b9-f690b5a74705"
      },
      "source": [
        "y"
      ],
      "execution_count": null,
      "outputs": [
        {
          "output_type": "execute_result",
          "data": {
            "text/plain": [
              "array([-13.75092075, -13.01622688, -12.281533  , -11.54683912,\n",
              "       -10.81214524, -10.07745137,  -9.34275749,  -8.60806361,\n",
              "        -7.87336973,  -7.13867586,  -6.40398198,  -5.6692881 ,\n",
              "        -4.93459422,  -4.19990035,  -3.46520647,  -2.73051259,\n",
              "        -1.99581871,  -1.26112484,  -0.52643096,   0.20826292,\n",
              "         0.9429568 ,   1.67765067,   2.41234455,   3.14703843,\n",
              "         3.88173231,   4.61642618,   5.35112006,   6.08581394,\n",
              "         6.82050782,   7.55520169,   8.28989557,   9.02458945,\n",
              "         9.75928333,  10.4939772 ,  11.22867108,  11.96336496,\n",
              "        12.69805884,  13.43275271,  14.16744659,  14.90214047,\n",
              "        15.63683435,  16.37152822,  17.1062221 ,  17.84091598,\n",
              "        18.57560986,  19.31030374,  20.04499761,  20.77969149,\n",
              "        21.51438537,  22.24907925])"
            ]
          },
          "metadata": {
            "tags": []
          },
          "execution_count": 52
        }
      ]
    },
    {
      "cell_type": "code",
      "metadata": {
        "id": "o5lAEJHevgJt",
        "colab_type": "code",
        "colab": {
          "base_uri": "https://localhost:8080/",
          "height": 282
        },
        "outputId": "cc9c4066-ba2e-44cd-a790-856a67d22ec6"
      },
      "source": [
        "plt.scatter(tpts[:,0], tpts[:, 1], c=labels)\n",
        "plt.plot(x, y, '-')"
      ],
      "execution_count": null,
      "outputs": [
        {
          "output_type": "execute_result",
          "data": {
            "text/plain": [
              "[<matplotlib.lines.Line2D at 0x7ffa76a61390>]"
            ]
          },
          "metadata": {
            "tags": []
          },
          "execution_count": 53
        },
        {
          "output_type": "display_data",
          "data": {
            "image/png": "[encoded data removed]",
            "text/plain": [
              "<Figure size 432x288 with 1 Axes>"
            ]
          },
          "metadata": {
            "tags": [],
            "needs_background": "light"
          }
        }
      ]
    }
  ]
}